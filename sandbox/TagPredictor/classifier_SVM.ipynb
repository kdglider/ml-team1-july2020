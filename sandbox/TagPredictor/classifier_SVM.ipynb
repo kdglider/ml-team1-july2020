{
 "metadata": {
  "language_info": {
   "codemirror_mode": {
    "name": "ipython",
    "version": 3
   },
   "file_extension": ".py",
   "mimetype": "text/x-python",
   "name": "python",
   "nbconvert_exporter": "python",
   "pygments_lexer": "ipython3",
   "version": 3
  },
  "orig_nbformat": 2
 },
 "nbformat": 4,
 "nbformat_minor": 2,
 "cells": [
  {
   "cell_type": "code",
   "execution_count": null,
   "metadata": {},
   "outputs": [],
   "source": [
    "from sklearn import svm\n",
    "from sklearn.metrics import accuracy_score\n",
    "\n",
    "from classifier import Classifier\n",
    "\n",
    "class Classifier_SVM(Classifier):\n",
    "    def __init__(self, kernel='linear'):\n",
    "        self.kernel = kernel\n",
    "\n",
    "    def run(self, Train_X_Tfidf, Train_Y, Test_X_Tfidf, Test_Y):\n",
    "        print(\"Running SVM Classifier\")\n",
    "\n",
    "        # Classifier - Algorithm - SVM\n",
    "        # fit the training dataset on the classifier\n",
    "        SVM = svm.SVC(C=1.0, kernel=self.kernel, degree=3, gamma='auto')\n",
    "        SVM.fit(Train_X_Tfidf,Train_Y)\n",
    "        # predict the labels on validation dataset\n",
    "        predictions_SVM = SVM.predict(Test_X_Tfidf)\n",
    "        # Use accuracy_score function to get the accuracy\n",
    "        print(\"SVM Accuracy Score -> \",accuracy_score(predictions_SVM, Test_Y)*100)\n"
   ]
  }
 ]
}