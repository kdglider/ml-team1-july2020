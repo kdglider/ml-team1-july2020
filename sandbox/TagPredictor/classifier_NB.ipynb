{
 "metadata": {
  "language_info": {
   "codemirror_mode": {
    "name": "ipython",
    "version": 3
   },
   "file_extension": ".py",
   "mimetype": "text/x-python",
   "name": "python",
   "nbconvert_exporter": "python",
   "pygments_lexer": "ipython3",
   "version": 3
  },
  "orig_nbformat": 2
 },
 "nbformat": 4,
 "nbformat_minor": 2,
 "cells": [
  {
   "cell_type": "code",
   "execution_count": null,
   "metadata": {},
   "outputs": [],
   "source": [
    "from sklearn import naive_bayes\n",
    "from sklearn.metrics import accuracy_score\n",
    "\n",
    "from classifier import Classifier\n",
    "\n",
    "class Classifier_NB(Classifier):\n",
    "    def run(self, Train_X_Tfidf, Train_Y, Test_X_Tfidf, Test_Y):\n",
    "        print(\"Running Naive Bayes Classifier\")\n",
    "        \n",
    "        # fit the training dataset on the NB classifier\n",
    "        Naive = naive_bayes.MultinomialNB()\n",
    "        Naive.fit(Train_X_Tfidf,Train_Y)\n",
    "        # predict the labels on validation dataset\n",
    "        predictions_NB = Naive.predict(Test_X_Tfidf)\n",
    "        # Use accuracy_score function to get the accuracy\n",
    "        print(\"Naive Bayes Accuracy Score -> \",accuracy_score(predictions_NB, Test_Y)*100)"
   ]
  }
 ]
}