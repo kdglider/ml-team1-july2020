from abc import ABC, abstractmethod

class Classifier(ABC):
    @abstractmethod
    def run(self, Train_X_Tfidf, Train_Y, Test_X_Tfidf, Test_Y):
        pass